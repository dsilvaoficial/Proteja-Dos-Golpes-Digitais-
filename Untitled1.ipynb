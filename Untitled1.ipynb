{
  "nbformat": 4,
  "nbformat_minor": 0,
  "metadata": {
    "colab": {
      "provenance": [],
      "authorship_tag": "ABX9TyNF/bsu567Y4zFcvlRzVwWg",
      "include_colab_link": true
    },
    "kernelspec": {
      "name": "python3",
      "display_name": "Python 3"
    },
    "language_info": {
      "name": "python"
    }
  },
  "cells": [
    {
      "cell_type": "markdown",
      "metadata": {
        "id": "view-in-github",
        "colab_type": "text"
      },
      "source": [
        "<a href=\"https://colab.research.google.com/github/dsilvaoficial/Proteja-Dos-Golpes-Digitais-/blob/main/Untitled1.ipynb\" target=\"_parent\"><img src=\"https://colab.research.google.com/assets/colab-badge.svg\" alt=\"Open In Colab\"/></a>"
      ]
    },
    {
      "cell_type": "code",
      "source": [
        "import requests\n",
        "import json"
      ],
      "metadata": {
        "id": "j9K8EhL2c3TH"
      },
      "execution_count": null,
      "outputs": []
    },
    {
      "cell_type": "code",
      "source": [
        "from google.colab import userdata\n",
        "\n",
        "GOOGLE_GEMINI_api_key = userdata.get('GOOGLE_GEMINI_api_Key')"
      ],
      "metadata": {
        "id": "WoFZjuKSc7YJ"
      },
      "execution_count": null,
      "outputs": []
    },
    {
      "cell_type": "code",
      "source": [
        "\n",
        "def verificar_url(url):\n",
        "  \"\"\"\n",
        "  Verifica se a URL é segura usando a API Safe Browsing.\n",
        "\n",
        "  Args:\n",
        "    url: A URL a ser verificada.\n",
        "\n",
        "  Returns:\n",
        "    Um dicionário com informações sobre a URL, incluindo a classificação de segurança.\n",
        "  \"\"\"\n",
        "  params = {\n",
        "    \"key\": api_key,\n",
        "    \"uri\": url,\n",
        "}\n",
        "  response = requests.get(\"https://developers.google.com/safe-browsing\", params=params)\n",
        "  if response.status_code == 200:\n",
        "    return json.loads(response.content)\n",
        "  else:\n",
        "    raise Exception(\"Falha ao verificar URL: {}\".\n",
        "format(response.status_code))"
      ],
      "metadata": {
        "id": "ZB-YQbnjpMS6"
      },
      "execution_count": null,
      "outputs": []
    },
    {
      "cell_type": "code",
      "source": [
        "def handle_greeting(dispatcher):\n",
        "\n",
        "    dispatcher.utter_message(\"Olá! Seja bem-vindo ao chatbot de segurança digital. Como posso te ajudar hoje?\")\n",
        "\n",
        "\n",
        "def handle_information_request(dispatcher):\n",
        "\n",
        "    dispatcher.utter_message(\"Existem diversos tipos de golpes digitais, como phishing, malware, vishing e fake news. É importante estar sempre atento e tomar algumas medidas para se proteger, como:\")\n",
        "\n",
        "    dispatcher.utter_message(\"* Não clique em links suspeitos ou baixe arquivos de fontes desconhecidas.\")\n",
        "\n",
        "    dispatcher.utter_message(\"* Mantenha seus softwares e antivírus atualizados.\")\n",
        "\n",
        "    dispatcher.utter_message(\"* Crie senhas fortes e exclusivas para cada conta.\")\n",
        "\n",
        "    dispatcher.utter_message(\"* Desconfie de ofertas muito boas para ser verdade.\")\n",
        "\n",
        "    dispatcher.utter_message(\"* Verifique a autenticidade de sites e lojas online antes de fazer compras.\")\n",
        "\n",
        "\n",
        "def handle_specific_scam(dispatcher, scam_type):\n",
        "\n",
        "    if scam_type == \"phishing\":\n",
        "\n",
        "        dispatcher.utter_message(\"O phishing é um golpe que tenta obter informações pessoais, como senhas ou dados bancários, através de emails, mensagens ou sites falsos. Para se proteger:\")\n",
        "\n",
        "        dispatcher.utter_message(\"* Verifique o remetente da mensagem e a ortografia do texto.\")\n",
        "\n",
        "        dispatcher.utter_message(\"* Não passe informações confidenciais por email ou mensagem.\")\n",
        "\n",
        "        dispatcher.utter_message(\"* Acesse sites através de links confiáveis ou digitando o endereço diretamente na barra de navegação.\")\n",
        "\n",
        "    elif scam_type == \"malware\":\n",
        "\n",
        "        dispatcher.utter_message(\"O malware é um software malicioso que pode ser instalado em seu computador sem o seu conhecimento, com o objetivo de roubar informações, danificar arquivos ou controlar seu dispositivo. Para se proteger:\")\n",
        "\n",
        "        dispatcher.utter_message(\"* Instale softwares antivírus e mantenha-os atualizados.\")\n",
        "\n",
        "        dispatcher.utter_message(\"* Tenha cuidado ao baixar arquivos de fontes desconhecidas.\")\n",
        "\n",
        "        dispatcher.utter_message(\"* Evite clicar em links suspeitos ou abrir anexos em emails não solicitados.\")\n",
        "\n",
        "    elif scam_type == \"vishing\":\n",
        "\n",
        "        dispatcher.utter_message(\"O vishing é um golpe que tenta obter informações pessoais por telefone, fingindo ser uma empresa ou instituição confiável. Para se proteger:\")\n",
        "\n",
        "        dispatcher.utter_message(\"* Desconfie de ligações inesperadas que pedem informações confidenciais.\")\n",
        "\n",
        "        dispatcher.utter_message(\"* Verifique o número de telefone do remetente e compare com o número oficial da empresa.\")\n",
        "\n",
        "        dispatcher.utter_message(\"* Não forneça informações pessoais por telefone a menos que tenha certeza da legitimidade da ligação.\")\n",
        "\n",
        "    elif scam_type == \"fake news\":\n",
        "\n",
        "        dispatcher.utter_message(\"A fake news é uma notícia falsa que tem como objetivo enganar as pessoas e espalhar desinformação. Para se proteger:\")\n",
        "\n",
        "        dispatcher.utter_message(\"* Verifique a fonte da notícia antes de compartilhá-la.\")\n",
        "\n",
        "        dispatcher.utter_message(\"* Busque informações em fontes confiáveis e imparciais.\")\n",
        "\n",
        "        dispatcher.utter_message(\"* Seja crítico com o que você lê e não acredite em tudo que vê na internet.\")\n",
        "\n",
        "\n",
        "def handle_fallback(dispatcher):\n",
        "\n",
        "    dispatcher.utter_message(\"Desculpe, não entendi o que você disse. Você pode reformular sua pergunta?\")"
      ],
      "metadata": {
        "id": "jJqss0KHqCU_"
      },
      "execution_count": null,
      "outputs": []
    },
    {
      "cell_type": "code",
      "source": [
        "def chatbot():\n",
        "\n",
        "  \"\"\"\n",
        "\n",
        "  Função principal do chatbot.\n",
        "\n",
        "\n",
        "  Implementa a lógica de conversação e utiliza a API Safe Browsing para verificar URLs.\n",
        "\n",
        "  \"\"\"\n",
        "\n",
        "  while True:\n",
        "\n",
        "    mensagem_usuario = input(\"Digite sua mensagem: \")\n",
        "\n",
        "\n",
        "    if mensagem_usuario.lower() == \"sair\":\n",
        "\n",
        "      break"
      ],
      "metadata": {
        "id": "ZdM0YrAyqb_o"
      },
      "execution_count": null,
      "outputs": []
    }
  ]
}